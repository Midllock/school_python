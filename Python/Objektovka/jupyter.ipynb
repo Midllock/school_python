{
 "cells": [
  {
   "cell_type": "code",
   "execution_count": 2,
   "id": "3acb4921",
   "metadata": {},
   "outputs": [
    {
     "name": "stdout",
     "output_type": "stream",
     "text": [
      "yes\n"
     ]
    }
   ],
   "source": [
    "print(\"yes\")"
   ]
  },
  {
   "cell_type": "code",
   "execution_count": 4,
   "id": "17137167",
   "metadata": {},
   "outputs": [
    {
     "name": "stdout",
     "output_type": "stream",
     "text": [
      "[[6, 6, 7, 8, 7], [2, 8, 4, 3, 0], [8, 9, 10, 2, 0], [1, 4, 7, 3, 6], [10, 3, 10, 9, 1]]\n"
     ]
    }
   ],
   "source": [
    "import random\n",
    "n=5 #rozměr matice\n",
    "matrix = [[random.randint(0, 10) for _ in range(n)] for _ in range(n)]\n",
    "print (matrix)"
   ]
  },
  {
   "cell_type": "code",
   "execution_count": 2,
   "id": "2f7719cb",
   "metadata": {},
   "outputs": [
    {
     "name": "stdout",
     "output_type": "stream",
     "text": [
      "[[1, 9, 8, 8, 5], [9, 5, 8, 4, 5], [4, 6, 5, 5, 6], [4, 3, 8, 3, 9], [3, 6, 7, 3, 1]]\n"
     ]
    }
   ],
   "source": [
    "import random\n",
    "n = 5\n",
    "matrix = [[random.randint(0, 10) for _ in range(n)] for _ in range(n)]\n",
    "print(matrix)\n",
    "\n"
   ]
  },
  {
   "cell_type": "code",
   "execution_count": null,
   "id": "27c5dfa5",
   "metadata": {},
   "outputs": [],
   "source": []
  }
 ],
 "metadata": {
  "kernelspec": {
   "display_name": "Python 3",
   "language": "python",
   "name": "python3"
  },
  "language_info": {
   "codemirror_mode": {
    "name": "ipython",
    "version": 3
   },
   "file_extension": ".py",
   "mimetype": "text/x-python",
   "name": "python",
   "nbconvert_exporter": "python",
   "pygments_lexer": "ipython3",
   "version": "3.11.9"
  }
 },
 "nbformat": 4,
 "nbformat_minor": 5
}
